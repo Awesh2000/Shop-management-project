{
  "nbformat": 4,
  "nbformat_minor": 0,
  "metadata": {
    "colab": {
      "name": "Purchase Product.ipynb",
      "provenance": [],
      "toc_visible": true
    },
    "kernelspec": {
      "name": "python3",
      "display_name": "Python 3"
    },
    "language_info": {
      "name": "python"
    }
  },
  "cells": [
    {
      "cell_type": "code",
      "metadata": {
        "id": "cqRy2obrvRjY"
      },
      "source": [
        "import json\n",
        "\n",
        "fd = open(\"record.json\",'r')\n",
        "r = fd.read()\n",
        "fd.close()\n",
        "\n",
        "records = json.loads(r)"
      ],
      "execution_count": null,
      "outputs": []
    },
    {
      "cell_type": "markdown",
      "metadata": {
        "id": "YOjBFH-3_G4J"
      },
      "source": [
        "Purchase"
      ]
    },
    {
      "cell_type": "code",
      "metadata": {
        "id": "hC4p_wNn_NLV"
      },
      "source": [
        "ui_prod = str(input(\"Enter product I'd\"))\n",
        "ui_quant = int(input(\"Enter product quantity\"))\n",
        "\n",
        "print(\"Product: \", records[ui_prod]['name'])\n",
        "print(\"Prices: \", records[ui_prod]['pr'])\n",
        "\n",
        "print(\"Billing Amount: \" records[ui_prod]['pr'] * ui_quant)\n",
        "\n",
        "records[ui_prod]['qn'] =  records[ui_prod]['qn'] - ui_quant"
      ],
      "execution_count": null,
      "outputs": []
    },
    {
      "cell_type": "markdown",
      "metadata": {
        "id": "Ab884HZ1CM2S"
      },
      "source": [
        "Update invantry after purchase"
      ]
    },
    {
      "cell_type": "code",
      "metadata": {
        "id": "dY5wc7UWCVik"
      },
      "source": [
        "js = json.dumps(records)\n",
        "\n",
        "fd = open(\"record.json\",'w')\n",
        "r = fd.write(js)\n",
        "fd.close()"
      ],
      "execution_count": null,
      "outputs": []
    },
    {
      "cell_type": "code",
      "metadata": {
        "id": "mAis0T5wDqK2"
      },
      "source": [
        "{\"prod\": ui_prod, 'qn': ui_quant, \"amount\": records[ui_prod]['pr'] * ui_quant}"
      ],
      "execution_count": null,
      "outputs": []
    },
    {
      "cell_type": "code",
      "metadata": {
        "id": "knnYQThJEyFw"
      },
      "source": [
        "sales = {\n",
        "          1: {\"prod\": ui_prod, 'qn': ui_quant, \"amount\": records[ui_prod]['pr'] * ui_quant},\n",
        "          2: {\"prod\": ui_prod, 'qn': ui_quant, \"amount\": records[ui_prod]['pr'] * ui_quant},\n",
        "          3: {\"prod\": ui_prod, 'qn': ui_quant, \"amount\": records[ui_prod]['pr'] * ui_quant}\n",
        "}"
      ],
      "execution_count": null,
      "outputs": []
    },
    {
      "cell_type": "code",
      "metadata": {
        "id": "wq873_IZFSdh"
      },
      "source": [
        "sales = json.dumps(sales)"
      ],
      "execution_count": null,
      "outputs": []
    },
    {
      "cell_type": "code",
      "metadata": {
        "id": "kGMgjUt7Fnz8"
      },
      "source": [
        "fd = open(\"record.json\",'w')\n",
        "r = fd.write()\n",
        "fd.close()"
      ],
      "execution_count": null,
      "outputs": []
    }
  ]
}