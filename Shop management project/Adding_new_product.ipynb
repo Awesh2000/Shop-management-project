{
  "nbformat": 4,
  "nbformat_minor": 0,
  "metadata": {
    "colab": {
      "name": "Adding new product",
      "provenance": [],
      "toc_visible": true
    },
    "kernelspec": {
      "name": "python3",
      "display_name": "Python 3"
    },
    "language_info": {
      "name": "python"
    }
  },
  "cells": [
    {
      "cell_type": "code",
      "metadata": {
        "id": "sA-GGtXajJdM"
      },
      "source": [
        "fd = open(\"record.json\",'r')\n",
        "r = fd.read()\n",
        "fd.close()"
      ],
      "execution_count": null,
      "outputs": []
    },
    {
      "cell_type": "code",
      "metadata": {
        "id": "-Tk2xVjpkZ3D"
      },
      "source": [
        "record = json.loads(r)"
      ],
      "execution_count": null,
      "outputs": []
    },
    {
      "cell_type": "code",
      "metadata": {
        "id": "EZBcLJGPktCH"
      },
      "source": [
        "record"
      ],
      "execution_count": null,
      "outputs": []
    },
    {
      "cell_type": "code",
      "metadata": {
        "id": "iuddJVSIlJEC"
      },
      "source": [
        "product_id = str(input('Enter Product I\\'D'))\n",
        "name = str(input(\"Enter name: \"))\n",
        "pr = int(input(\"Enter price of product\"))\n",
        "qr = int(input(\"Enter quantity of product\"))"
      ],
      "execution_count": null,
      "outputs": []
    },
    {
      "cell_type": "code",
      "metadata": {
        "id": "AAcJOgRDmcU6"
      },
      "source": [
        "{product_id : {'name': name, 'pr': pr, \"qr\": qr}}"
      ],
      "execution_count": null,
      "outputs": []
    },
    {
      "cell_type": "code",
      "metadata": {
        "id": "GGaUdJqPntN_"
      },
      "source": [
        "record"
      ],
      "execution_count": null,
      "outputs": []
    },
    {
      "cell_type": "markdown",
      "metadata": {
        "id": "V5DigFy_nwjX"
      },
      "source": [
        "\n",
        "Adding Value to Dictionary\n",
        "```\n",
        "# This is formatted as code\n",
        "```\n",
        "\n"
      ]
    },
    {
      "cell_type": "code",
      "metadata": {
        "id": "aeiT3XRVn6jQ"
      },
      "source": [
        "product_id = str(input('Enter Product I\\'D'))\n",
        "name = str(input(\"Enter name: \"))\n",
        "pr = int(input(\"Enter price of product\"))\n",
        "qr = int(input(\"Enter quantity of product\"))\n",
        "\n",
        "js = json.dumps(record)\n",
        "record[product_id] = {'name': name, 'pr': pr, \"qr\": qr}\n",
        "\n",
        "fd = open(\"record.json\",'r')\n",
        "r = fd.read()\n",
        "fd.close()\n"
      ],
      "execution_count": null,
      "outputs": []
    }
  ]
}